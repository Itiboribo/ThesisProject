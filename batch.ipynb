{
 "cells": [
  {
   "attachments": {},
   "cell_type": "markdown",
   "metadata": {},
   "source": [
    "Calculation of thermal power required from the microwave and Hot air when the hot air temperature is 80C.\n",
    "\n"
   ]
  },
  {
   "cell_type": "code",
   "execution_count": 8,
   "metadata": {},
   "outputs": [
    {
     "ename": "ValueError",
     "evalue": "can only convert an array of size 1 to a Python scalar",
     "output_type": "error",
     "traceback": [
      "\u001b[1;31m---------------------------------------------------------------------------\u001b[0m",
      "\u001b[1;31mValueError\u001b[0m                                Traceback (most recent call last)",
      "\u001b[1;32mc:\\Users\\User\\ken\\python_test_django\\pull_batch\\ThesisProject\\batch.ipynb Cell 2\u001b[0m in \u001b[0;36m<cell line: 42>\u001b[1;34m()\u001b[0m\n\u001b[0;32m     <a href='vscode-notebook-cell:/c%3A/Users/User/ken/python_test_django/pull_batch/ThesisProject/batch.ipynb#W2sZmlsZQ%3D%3D?line=38'>39</a>\u001b[0m df \u001b[39m=\u001b[39m pd\u001b[39m.\u001b[39mread_excel(\u001b[39m\"\u001b[39m\u001b[39msteam_table.xlsx\u001b[39m\u001b[39m\"\u001b[39m)\n\u001b[0;32m     <a href='vscode-notebook-cell:/c%3A/Users/User/ken/python_test_django/pull_batch/ThesisProject/batch.ipynb#W2sZmlsZQ%3D%3D?line=39'>40</a>\u001b[0m \u001b[39m#Lv = 2300  #latent heat of vaporisation (kJ/kg) \u001b[39;00m\n\u001b[1;32m---> <a href='vscode-notebook-cell:/c%3A/Users/User/ken/python_test_django/pull_batch/ThesisProject/batch.ipynb#W2sZmlsZQ%3D%3D?line=41'>42</a>\u001b[0m Lv \u001b[39m=\u001b[39m df\u001b[39m.\u001b[39;49mloc[df[\u001b[39m'\u001b[39;49m\u001b[39mpressure (bar)\u001b[39;49m\u001b[39m'\u001b[39;49m] \u001b[39m==\u001b[39;49m P, \u001b[39m'\u001b[39;49m\u001b[39mLatent heat of vaporization(kJ/kg)\u001b[39;49m\u001b[39m'\u001b[39;49m]\u001b[39m.\u001b[39;49mitem()\n\u001b[0;32m     <a href='vscode-notebook-cell:/c%3A/Users/User/ken/python_test_django/pull_batch/ThesisProject/batch.ipynb#W2sZmlsZQ%3D%3D?line=43'>44</a>\u001b[0m Qloss \u001b[39m=\u001b[39m \u001b[39m0\u001b[39m \u001b[39m# assuming the dryer is thermally perfect \u001b[39;00m\n\u001b[0;32m     <a href='vscode-notebook-cell:/c%3A/Users/User/ken/python_test_django/pull_batch/ThesisProject/batch.ipynb#W2sZmlsZQ%3D%3D?line=44'>45</a>\u001b[0m Qeva \u001b[39m=\u001b[39m Msw \u001b[39m*\u001b[39m Lv\u001b[39m/\u001b[39mDt   \u001b[39m#latent heat energy of vaporisation (kW)\u001b[39;00m\n",
      "File \u001b[1;32mc:\\Users\\User\\anaconda3\\envs\\myenv\\lib\\site-packages\\pandas\\core\\base.py:349\u001b[0m, in \u001b[0;36mIndexOpsMixin.item\u001b[1;34m(self)\u001b[0m\n\u001b[0;32m    347\u001b[0m \u001b[39mif\u001b[39;00m \u001b[39mlen\u001b[39m(\u001b[39mself\u001b[39m) \u001b[39m==\u001b[39m \u001b[39m1\u001b[39m:\n\u001b[0;32m    348\u001b[0m     \u001b[39mreturn\u001b[39;00m \u001b[39mnext\u001b[39m(\u001b[39miter\u001b[39m(\u001b[39mself\u001b[39m))\n\u001b[1;32m--> 349\u001b[0m \u001b[39mraise\u001b[39;00m \u001b[39mValueError\u001b[39;00m(\u001b[39m\"\u001b[39m\u001b[39mcan only convert an array of size 1 to a Python scalar\u001b[39m\u001b[39m\"\u001b[39m)\n",
      "\u001b[1;31mValueError\u001b[0m: can only convert an array of size 1 to a Python scalar"
     ]
    }
   ],
   "source": [
    "import pandas as pd \n",
    "import math \n",
    "\n",
    "#Constant parameters \n",
    "T1 = 20 #Wet_Solid inlet temperature  C\n",
    "Ta = 80 #Mixed air inlet temperature C\n",
    "Ta1 = 30 # assumed initial air temperature C\n",
    "Ca = 1.005 #specifc heat capacity of air kJ/kg.K\n",
    "Cw = 4.180 #specifc heat capacity of water kJ/kg.K\n",
    "Cs = 0.750 # specifc heat capacity of dry solid kJ/kg.K  \n",
    "Cv = 2.0 # specifc heat capacity of vapor kJ/kg.K  \n",
    "RH_in = 60 # relative humdity value of ventilation air = 60%,\n",
    "Dt = 1 # required drying time hour\n",
    "Fbp = 0.3 #bypass factor\n",
    "Yba = 0.157 \n",
    "Y1 = 0.016 # inlet absolute humidity (kg water/kg dry air)\n",
    "Tm = 60 #control dryer final temperature 60C\n",
    "\n",
    "#input variable parameters\n",
    "Ms = float(input(\"wet sample weight in kg\"))  # wet sample weight kg 20\n",
    "MCi = float(input(\"initial moisture content wet basis in %\"))  # initial moisture content wet basis 50\n",
    "MCf = float(input(\"final moisture content wet basis in %\"))  # final moisture content wet basis 0%\n",
    "P = float(input(\"dryer vacuum pressure in bar\")) #dryer pressure (1bar)\n",
    "\n",
    "#calculated parameters \n",
    "X1 = MCi/(100-MCi) # inital moisture content in dry basis (kg water/kg dry solid)\n",
    "X2 = MCf/(100-MCf) # inital moisture content in dry basis (kg water/kg dry solid)\n",
    "Mds = Ms * ((100-MCi)/100)  #dry sample weight (kg)\n",
    "Y2 = (Fbp * Y1) + (1-Fbp)*Yba # final absolute humidity (kg water/kg dry air)\n",
    "P = \"{:.2f}\".format(P)\n",
    "P = float(P)\n",
    "Dt = Dt* 3600 # drying time in seconds (s)\n",
    "ma = Mds * (X1 - X2)/(Dt *(Y1 - Y2))   #dry air mass flow rate kg/sec\n",
    "mda = ma/ ((1-Y1)/1) # drying air mass flow rate kg/sec\n",
    "CONV = (MCi - MCf)/(100-MCf)  # dryer system conversion rate \n",
    "Msw = Ms * CONV #the amount of water removed (kg)\n",
    "Cp = ((MCi* Cw) + ((100-MCi)* Cs))/ 100  # specific capacity of the sample\n",
    "\n",
    "# latent energy of vaporisation based on the dryer pressure\n",
    "df = pd.read_excel(\"steam_table.xlsx\")\n",
    "#Lv = 2300  #latent heat of vaporisation (kJ/kg) \n",
    "\n",
    "Lv = df.loc[df['pressure (bar)'] == P, 'Latent heat of vaporization(kJ/kg)'].item()\n",
    "\n",
    "Qloss = 0 # assuming the dryer is thermally perfect \n",
    "Qeva = Msw * Lv/Dt   #latent heat energy of vaporisation (kW)\n",
    "ha1 = ((Ca + (Cv * Y1))* Ta)\n",
    "ha2 = ((Ca + (Cv * Y2))* Tm)\n",
    "ha0 = ((Ca + (Cv * Y2))* Ta1)\n",
    "Qg = ma * (ha1 - ha2) # energy from the dry gas into the dryer (kW)\n",
    "dhs = Cs * (Tm - T1) # enthalpy change of the dry sample (kJ/kg)\n",
    "Qs = Mds * dhs/Dt #  energy absorbed by the dry sample (kW)\n",
    "Qmw = Qs - (Qeva + Qloss + Qg)  # Microwave thermal power required (kW)\n",
    "Qha = mda * (ha0 - ha1) # energy from the drying air during drying time (kW)\n",
    "\n",
    "print(Qmw, Qha)"
   ]
  },
  {
   "cell_type": "code",
   "execution_count": 14,
   "metadata": {},
   "outputs": [
    {
     "data": {
      "text/plain": [
       "1.0"
      ]
     },
     "execution_count": 14,
     "metadata": {},
     "output_type": "execute_result"
    }
   ],
   "source": [
    "P = 1\n",
    "P = \"{:.2f}\".format(P)\n",
    "P = float(P)\n",
    "P"
   ]
  }
 ],
 "metadata": {
  "kernelspec": {
   "display_name": "Python 3.9.13 ('myenv')",
   "language": "python",
   "name": "python3"
  },
  "language_info": {
   "codemirror_mode": {
    "name": "ipython",
    "version": 3
   },
   "file_extension": ".py",
   "mimetype": "text/x-python",
   "name": "python",
   "nbconvert_exporter": "python",
   "pygments_lexer": "ipython3",
   "version": "3.9.13"
  },
  "orig_nbformat": 4,
  "vscode": {
   "interpreter": {
    "hash": "1f3c63be497089d92c7178fa8268554d9acd64372db5485435c07c4b1e5eb569"
   }
  }
 },
 "nbformat": 4,
 "nbformat_minor": 2
}
