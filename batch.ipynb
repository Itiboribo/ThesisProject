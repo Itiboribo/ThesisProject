{
 "cells": [
  {
   "cell_type": "code",
   "execution_count": 30,
   "metadata": {},
   "outputs": [
    {
     "name": "stdout",
     "output_type": "stream",
     "text": [
      "555.1236025667007 505.9480000000001\n"
     ]
    }
   ],
   "source": [
    "T1 = 25 #Wet_Solid inlet temperature  C\n",
    "Ta = 30 #Mixed air inlet temperature C\n",
    "Ca = 1.005 #specifc heat capacity of air kJ/kg.K\n",
    "Cw = 4.180 #specifc heat capacity of water kJ/kg.K\n",
    "Cs = 0.840 # specifc heat capacity of dry solid kJ/kg.K  check again\n",
    "Cv = 2 # specifc heat capacity of vapor kJ/kg.K  \n",
    "RH_in = 60 # relative humdity value of ventilation air = 60%,\n",
    "Dt = 1 # required drying time hour\n",
    "Fbp = 0.3 \n",
    "Yba = 0.157\n",
    "Y1 = 0.016 # inl\n",
    "Y2 = (Fbp * Y1) + (1-Fbp)*Yba\n",
    "Ms = 2000  #kg/h\n",
    "Ms = 2000/3600 #kg/s\n",
    "MCi = 45.6  #%\n",
    "MCf = 15\n",
    "X1 = MCi/(100-MCi) # inital moisture content in dry basis\n",
    "X2 = MCf/(100-MCf) # inital moisture content in dry basis\n",
    "Mds = Ms * ((100-MCi)/100)  #kg/s\n",
    "\n",
    "ma = - Mds * (X1 - X2)/(Dt *(Y1 - Y2))   #dry air mass rate kg/sec\n",
    "Tm = 60 #control final temperature C\n",
    "\n",
    "\n",
    "CONV = (MCi - MCf)/(100-MCf)\n",
    "Mss = Ms * CONV \n",
    "Cp = ((MCi* Cw) + ((100-MCi)* Cs))/ 100\n",
    "Lv = 2300  #kJ/kg\n",
    "Ql = Mss * Lv # latent heat energy of vaporisation kJ\n",
    "#Qsens = Ms * Cp * (100-20) # energy required to heat the wet sample to the water boiling point\n",
    "#Energy_required = Ql + Qsens\n",
    "\n",
    "\n",
    "Qloss = 0 # assuming the dryer is thermally perfect \n",
    "Hai = ((Ca + (Cv * Y1))* Ta) +(Lv*Y1) # inlet hot air enthalpy kJ/kg\n",
    "Haf = ((Ca + (Cv * Y2))* Tm) + (Lv*Y2) # outlet moist air enthalpy kJ/kg\n",
    "Hsi = (Cs + (Cw * X1)) * T1 # inlet sample enthalpy \n",
    "Hsf = (Cs + (Cw * X2)) * Tm  # outlet sample enthalpy \n",
    "Qmw = (ma * (Haf - Hai)) + (Mds *(Hsf - Hai)) + Qloss  # microwave thermal energy [kW]\n",
    "#Qcv = Ma * Cpa (Tai - Tf) # heat from the hot mixed air flow cross flowing through the dryer system \n",
    "Ql = Mss * Lv # latent heat energy of vaporisation \n",
    "Qsen = Ms * Cp * (Tm - T1)  # sensible heat required to heat the sample\n",
    "Qmw\n",
    "Qt = Ql + Qsen + Qloss #[kW]\n",
    "Qt\n",
    "print(Qmw,Qt)"
   ]
  },
  {
   "cell_type": "code",
   "execution_count": 48,
   "metadata": {},
   "outputs": [
    {
     "name": "stdout",
     "output_type": "stream",
     "text": [
      "-6.439032534053811 -1.313598917819641\n"
     ]
    }
   ],
   "source": [
    "import pandas as pd \n",
    "import math \n",
    "\n",
    "#Constant parameters \n",
    "T1 = 20 #Wet_Solid inlet temperature  C\n",
    "Ta = 80 #Mixed air inlet temperature C\n",
    "Ta1 = 30 # assumed initial air temperature C\n",
    "Ca = 1.005 #specifc heat capacity of air kJ/kg.K\n",
    "Cw = 4.180 #specifc heat capacity of water kJ/kg.K\n",
    "Cs = 0.750 # specifc heat capacity of dry solid kJ/kg.K  \n",
    "Cv = 2.0 # specifc heat capacity of vapor kJ/kg.K  \n",
    "RH_in = 60 # relative humdity value of ventilation air = 60%,\n",
    "Dt = 1 # required drying time hour\n",
    "Fbp = 0.3 #bypass factor\n",
    "Yba = 0.157 \n",
    "Y1 = 0.016 # inlet absolute humidity (kg water/kg dry air)\n",
    "\n",
    "#input variable parameters\n",
    "Ms = 20  # wet sample weight kg \n",
    "MCi = 50  # initial moisture content wet basis\n",
    "MCf = 0   # final moisture content wet basis %\n",
    "X1 = MCi/(100-MCi) # inital moisture content in dry basis (kg water/kg dry solid)\n",
    "X2 = MCf/(100-MCf) # inital moisture content in dry basis (kg water/kg dry solid)\n",
    "Tm = 60 #control dryer final temperature C\n",
    "P = 1.00 #dryer pressure (bar)\n",
    "\n",
    "#calculated parameters \n",
    "Mds = Ms * ((100-MCi)/100)  #dry sample weight (kg)\n",
    "Y2 = (Fbp * Y1) + (1-Fbp)*Yba # final absolute humidity (kg water/kg dry air)\n",
    "Dt = Dt* 3600 # drying time in seconds (s)\n",
    "ma = - Mds * (X1 - X2)/(Dt *(Y1 - Y2))   #dry air mass flow rate kg/sec\n",
    "mda = ma/ ((1-Y1)/1) # drying air mass flow rate kg/sec\n",
    "CONV = (MCi - MCf)/(100-MCf)  # dryer system conversion rate \n",
    "Msw = Ms * CONV #the amount of water removed (kg)\n",
    "Cp = ((MCi* Cw) + ((100-MCi)* Cs))/ 100  # specific capacity of the sample\n",
    "\n",
    "# latent energy of vaporisation based on the dryer pressure\n",
    "df = pd.read_excel(\"steam_table.xlsx\")\n",
    "#Lv = 2300  #latent heat of vaporisation (kJ/kg) \n",
    "Lv = df.loc[df['pressure (bar)'] == P, 'Latent heat of vaporization(kJ/kg)'].item()\n",
    "\n",
    "Qloss = 0 # assuming the dryer is thermally perfect \n",
    "Qeva = Msw * Lv/Dt   #latent heat energy of vaporisation (kW)\n",
    "ha1 = ((Ca + (Cv * Y1))* Ta)\n",
    "ha2 = ((Ca + (Cv * Y2))* Tm)\n",
    "ha0 = ((Ca + (Cv * Y2))* Ta1)\n",
    "Qg = ma * (ha1 - ha2) # energy from the dry gas into the dryer (kW)\n",
    "dhs = Cs * (Tm - T1) # enthalpy change of the dry sample (kJ/kg)\n",
    "Qs = Mds * dhs/Dt #  energy absorbed by the dry sample (kW)\n",
    "Qmw = Qs - (Qeva + Qloss + Qg)  # Microwave thermal power required (kW)\n",
    "Qha = mda * (ha0 - ha1) # energy from the drying air during drying time (kW)\n",
    "\n",
    "print(Qmw, Qha)"
   ]
  }
 ],
 "metadata": {
  "kernelspec": {
   "display_name": "Python 3.9.13 ('myenv')",
   "language": "python",
   "name": "python3"
  },
  "language_info": {
   "codemirror_mode": {
    "name": "ipython",
    "version": 3
   },
   "file_extension": ".py",
   "mimetype": "text/x-python",
   "name": "python",
   "nbconvert_exporter": "python",
   "pygments_lexer": "ipython3",
   "version": "3.9.13 (main, Oct 13 2022, 21:23:06) [MSC v.1916 64 bit (AMD64)]"
  },
  "orig_nbformat": 4,
  "vscode": {
   "interpreter": {
    "hash": "1f3c63be497089d92c7178fa8268554d9acd64372db5485435c07c4b1e5eb569"
   }
  }
 },
 "nbformat": 4,
 "nbformat_minor": 2
}
