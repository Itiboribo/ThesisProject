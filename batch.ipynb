{
 "cells": [
  {
   "attachments": {},
   "cell_type": "markdown",
   "metadata": {},
   "source": [
    "Calculation of thermal power required from the microwave and Hot air when the hot air temperature is 80C.\n",
    "\n"
   ]
  },
  {
   "cell_type": "code",
   "execution_count": 16,
   "metadata": {},
   "outputs": [
    {
     "name": "stdout",
     "output_type": "stream",
     "text": [
      "-5.938300799279523 1.313598917819641\n"
     ]
    }
   ],
   "source": [
    "import pandas as pd \n",
    "import math \n",
    "\n",
    "#Constant parameters \n",
    "T1 = 20 #Wet_Solid inlet temperature  C\n",
    "Ta = 80 #Mixed air inlet temperature C\n",
    "Ta1 = 30 # assumed initial air temperature C\n",
    "Ca = 1.005 #specifc heat capacity of air kJ/kg.K\n",
    "Cw = 4.180 #specifc heat capacity of water kJ/kg.K\n",
    "Cs = 0.750 # specifc heat capacity of dry solid kJ/kg.K  \n",
    "Cv = 2.0 # specifc heat capacity of vapor kJ/kg.K  \n",
    "RH_in = 60 # relative humdity value of ventilation air = 60%,\n",
    "Dt = 1 # required drying time hour\n",
    "Fbp = 0.3 #bypass factor\n",
    "Yba = 0.157 \n",
    "Y1 = 0.016 # inlet absolute humidity (kg water/kg dry air)\n",
    "Tm = 60 #control dryer final temperature 60C\n",
    "\n",
    "#input variable parameters\n",
    "Ms = float(input(\"wet sample weight in kg\"))  # wet sample weight kg 20\n",
    "MCi = float(input(\"initial moisture content wet basis in %\"))  # initial moisture content wet basis 50\n",
    "MCf = float(input(\"final moisture content wet basis in %\"))  # final moisture content wet basis 0%\n",
    "P = float(input(\"dryer vacuum pressure in bar\")) #dryer pressure (1bar)\n",
    "\n",
    "#calculated parameters \n",
    "X1 = MCi/(100-MCi) # inital moisture content in dry basis (kg water/kg dry solid)\n",
    "X2 = MCf/(100-MCf) # inital moisture content in dry basis (kg water/kg dry solid)\n",
    "Mds = Ms * ((100-MCi)/100)  #dry sample weight (kg)\n",
    "Y2 = (Fbp * Y1) + (1-Fbp)*Yba # final absolute humidity (kg water/kg dry air)\n",
    "P = \"{:.2f}\".format(P)\n",
    "P = float(P)\n",
    "Dt = Dt* 3600 # drying time in seconds (s)\n",
    "ma = Mds * (X1 - X2)/(Dt *(Y1 - Y2))   #dry air mass flow rate kg/sec\n",
    "mda = ma/ ((1-Y1)/1) # drying air mass flow rate kg/sec\n",
    "CONV = (MCi - MCf)/(100-MCf)  # dryer system conversion rate \n",
    "Msw = Ms * CONV #the amount of water removed (kg)\n",
    "Cp = ((MCi* Cw) + ((100-MCi)* Cs))/ 100  # specific capacity of the sample\n",
    "\n",
    "# latent energy of vaporisation based on the dryer pressure\n",
    "df = pd.read_excel(\"steam_table.xlsx\")\n",
    "#Lv = 2300  #latent heat of vaporisation (kJ/kg) \n",
    "\n",
    "Lv = df.loc[df['pressure (bar)'] == P, 'Latent heat of vaporization(kJ/kg)'].item()\n",
    "\n",
    "Qloss = 0 # assuming the dryer is thermally perfect \n",
    "Qeva = Msw * Lv/Dt   #latent heat energy of vaporisation (kW)\n",
    "ha1 = ((Ca + (Cv * Y1))* Ta)\n",
    "ha2 = ((Ca + (Cv * Y2))* Tm)\n",
    "ha0 = ((Ca + (Cv * Y2))* Ta1) #atmosphere\n",
    "Qg = ma * (ha1 - ha2) # energy from the dry gas into the dryer (kW)\n",
    "dhs = Cs * (Tm - T1) # enthalpy change of the dry sample (kJ/kg)\n",
    "Qs = Mds * dhs/Dt #  energy absorbed by the dry sample (kW)\n",
    "Qmw = Qs - (Qeva + Qloss + Qg)  # Microwave thermal power required (kW)\n",
    "Qha = mda * (ha0 - ha1) # energy from the drying air during drying time (kW)\n",
    "\n",
    "print(Qmw, Qha)"
   ]
  },
  {
   "cell_type": "code",
   "execution_count": 14,
   "metadata": {},
   "outputs": [
    {
     "data": {
      "text/plain": [
       "1.0"
      ]
     },
     "execution_count": 14,
     "metadata": {},
     "output_type": "execute_result"
    }
   ],
   "source": []
  }
 ],
 "metadata": {
  "kernelspec": {
   "display_name": "Python 3.9.13 ('myenv')",
   "language": "python",
   "name": "python3"
  },
  "language_info": {
   "codemirror_mode": {
    "name": "ipython",
    "version": 3
   },
   "file_extension": ".py",
   "mimetype": "text/x-python",
   "name": "python",
   "nbconvert_exporter": "python",
   "pygments_lexer": "ipython3",
   "version": "3.9.13"
  },
  "orig_nbformat": 4,
  "vscode": {
   "interpreter": {
    "hash": "1f3c63be497089d92c7178fa8268554d9acd64372db5485435c07c4b1e5eb569"
   }
  }
 },
 "nbformat": 4,
 "nbformat_minor": 2
}
